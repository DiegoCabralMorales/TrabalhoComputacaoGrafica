{
 "cells": [
  {
   "cell_type": "markdown",
   "metadata": {},
   "source": [
    "# Trabalho 2 - Computação Gráfica SCC0250"
   ]
  },
  {
   "cell_type": "markdown",
   "metadata": {},
   "source": [
    "### Primeiro, vamos importar as bibliotecas necessárias.\n",
    "Verifique no código anterior um script para instalar as dependências necessárias (OpenGL e GLFW) antes de prosseguir."
   ]
  },
  {
   "cell_type": "code",
   "execution_count": 196,
   "metadata": {},
   "outputs": [],
   "source": [
    "import glfw\n",
    "from OpenGL.GL import *\n",
    "import OpenGL.GL.shaders\n",
    "import numpy as np\n",
    "import glm\n",
    "import math\n",
    "from PIL import Image"
   ]
  },
  {
   "cell_type": "markdown",
   "metadata": {},
   "source": [
    "### Inicializando janela"
   ]
  },
  {
   "cell_type": "code",
   "execution_count": 197,
   "metadata": {},
   "outputs": [],
   "source": [
    "glfw.init()\n",
    "glfw.window_hint(glfw.VISIBLE, glfw.FALSE);\n",
    "altura = 1600\n",
    "largura = 1200\n",
    "window = glfw.create_window(largura, altura, \"Malhas e Texturas\", None, None)\n",
    "glfw.make_context_current(window)"
   ]
  },
  {
   "cell_type": "markdown",
   "metadata": {},
   "source": [
    "### GLSL (OpenGL Shading Language)\n",
    "\n",
    "Aqui veremos nosso primeiro código GLSL.\n",
    "\n",
    "É uma linguagem de shading de alto nível baseada na linguagem de programação C.\n",
    "\n",
    "Nós estamos escrevendo código GLSL como se \"strings\" de uma variável (mas podemos ler de arquivos texto). Esse código, depois, terá que ser compilado e linkado ao nosso programa. \n",
    "\n",
    "Iremos aprender GLSL conforme a necessidade do curso. Usarmos uma versão do GLSL mais antiga, compatível com muitos dispositivos."
   ]
  },
  {
   "cell_type": "markdown",
   "metadata": {},
   "source": [
    "### GLSL para Vertex Shader\n",
    "\n",
    "No Pipeline programável, podemos interagir com Vertex Shaders.\n",
    "\n",
    "No código abaixo, estamos fazendo o seguinte:\n",
    "\n",
    "* Definindo uma variável chamada position do tipo vec3.\n",
    "* Definindo matrizes Model, View e Projection que acumulam transformações geométricas 3D e permitem navegação no cenário.\n",
    "* void main() é o ponto de entrada do nosso programa (função principal)\n",
    "* gl_Position é uma variável especial do GLSL. Variáveis que começam com 'gl_' são desse tipo. Nesse caso, determina a posição de um vértice. Observe que todo vértice tem 4 coordenadas, por isso nós combinamos nossa variável vec2 com uma variável vec4. Além disso, nós modificamos nosso vetor com base nas transformações Model, View e Projection."
   ]
  },
  {
   "cell_type": "code",
   "execution_count": 198,
   "metadata": {},
   "outputs": [],
   "source": [
    "vertex_code = \"\"\"\n",
    "        attribute vec3 position;\n",
    "        attribute vec2 texture_coord;\n",
    "        varying vec2 out_texture;\n",
    "                \n",
    "        uniform mat4 model;\n",
    "        uniform mat4 view;\n",
    "        uniform mat4 projection;        \n",
    "        \n",
    "        void main(){\n",
    "            gl_Position = projection * view * model * vec4(position,1.0);\n",
    "            out_texture = vec2(texture_coord);\n",
    "        }\n",
    "        \"\"\""
   ]
  },
  {
   "cell_type": "markdown",
   "metadata": {},
   "source": [
    "### GLSL para Fragment Shader\n",
    "\n",
    "No Pipeline programável, podemos interagir com Fragment Shaders.\n",
    "\n",
    "No código abaixo, estamos fazendo o seguinte:\n",
    "\n",
    "* void main() é o ponto de entrada do nosso programa (função principal)\n",
    "* gl_FragColor é uma variável especial do GLSL. Variáveis que começam com 'gl_' são desse tipo. Nesse caso, determina a cor de um fragmento. Nesse caso é um ponto, mas poderia ser outro objeto (ponto, linha, triangulos, etc)."
   ]
  },
  {
   "cell_type": "markdown",
   "metadata": {},
   "source": [
    "### Possibilitando modificar a cor.\n",
    "\n",
    "Nos exemplos anteriores, a variável gl_FragColor estava definida de forma fixa (com cor R=0, G=0, B=0).\n",
    "\n",
    "Agora, nós vamos criar uma variável do tipo \"uniform\", de quatro posições (vec4), para receber o dado de cor do nosso programa rodando em CPU."
   ]
  },
  {
   "cell_type": "code",
   "execution_count": 199,
   "metadata": {},
   "outputs": [],
   "source": [
    "fragment_code = \"\"\"\n",
    "        uniform vec4 color;\n",
    "        varying vec2 out_texture;\n",
    "        uniform sampler2D samplerTexture;\n",
    "        \n",
    "        void main(){\n",
    "            vec4 texture = texture2D(samplerTexture, out_texture);\n",
    "            gl_FragColor = texture;\n",
    "        }\n",
    "        \"\"\""
   ]
  },
  {
   "cell_type": "markdown",
   "metadata": {},
   "source": [
    "### Requisitando slot para a GPU para nossos programas Vertex e Fragment Shaders"
   ]
  },
  {
   "cell_type": "code",
   "execution_count": 200,
   "metadata": {},
   "outputs": [],
   "source": [
    "# Request a program and shader slots from GPU\n",
    "program  = glCreateProgram()\n",
    "vertex   = glCreateShader(GL_VERTEX_SHADER)\n",
    "fragment = glCreateShader(GL_FRAGMENT_SHADER)\n"
   ]
  },
  {
   "cell_type": "markdown",
   "metadata": {},
   "source": [
    "### Associando nosso código-fonte aos slots solicitados"
   ]
  },
  {
   "cell_type": "code",
   "execution_count": 201,
   "metadata": {},
   "outputs": [],
   "source": [
    "# Set shaders source\n",
    "glShaderSource(vertex, vertex_code)\n",
    "glShaderSource(fragment, fragment_code)"
   ]
  },
  {
   "cell_type": "markdown",
   "metadata": {},
   "source": [
    "### Compilando o Vertex Shader\n",
    "\n",
    "Se há algum erro em nosso programa Vertex Shader, nosso app para por aqui."
   ]
  },
  {
   "cell_type": "code",
   "execution_count": 202,
   "metadata": {},
   "outputs": [],
   "source": [
    "# Compile shaders\n",
    "glCompileShader(vertex)\n",
    "if not glGetShaderiv(vertex, GL_COMPILE_STATUS):\n",
    "    error = glGetShaderInfoLog(vertex).decode()\n",
    "    print(error)\n",
    "    raise RuntimeError(\"Erro de compilacao do Vertex Shader\")\n"
   ]
  },
  {
   "cell_type": "markdown",
   "metadata": {},
   "source": [
    "### Compilando o Fragment Shader\n",
    "\n",
    "Se há algum erro em nosso programa Fragment Shader, nosso app para por aqui."
   ]
  },
  {
   "cell_type": "code",
   "execution_count": 203,
   "metadata": {},
   "outputs": [],
   "source": [
    "glCompileShader(fragment)\n",
    "if not glGetShaderiv(fragment, GL_COMPILE_STATUS):\n",
    "    error = glGetShaderInfoLog(fragment).decode()\n",
    "    print(error)\n",
    "    raise RuntimeError(\"Erro de compilacao do Fragment Shader\")"
   ]
  },
  {
   "cell_type": "markdown",
   "metadata": {},
   "source": [
    "### Associando os programas compilado ao programa principal"
   ]
  },
  {
   "cell_type": "code",
   "execution_count": 204,
   "metadata": {},
   "outputs": [],
   "source": [
    "# Attach shader objects to the program\n",
    "glAttachShader(program, vertex)\n",
    "glAttachShader(program, fragment)\n"
   ]
  },
  {
   "cell_type": "markdown",
   "metadata": {},
   "source": [
    "### Linkagem do programa"
   ]
  },
  {
   "cell_type": "code",
   "execution_count": 205,
   "metadata": {},
   "outputs": [],
   "source": [
    "# Build program\n",
    "glLinkProgram(program)\n",
    "if not glGetProgramiv(program, GL_LINK_STATUS):\n",
    "    print(glGetProgramInfoLog(program))\n",
    "    raise RuntimeError('Linking error')\n",
    "    \n",
    "# Make program the default program\n",
    "glUseProgram(program)"
   ]
  },
  {
   "cell_type": "markdown",
   "metadata": {},
   "source": [
    "### Preparando dados para enviar a GPU\n",
    "\n",
    "Nesse momento, nós compilamos nossos Vertex e Program Shaders para que a GPU possa processá-los.\n",
    "\n",
    "Por outro lado, as informações de vértices geralmente estão na CPU e devem ser transmitidas para a GPU.\n"
   ]
  },
  {
   "cell_type": "markdown",
   "metadata": {},
   "source": [
    "### Carregando Modelos (vértices e texturas) a partir de Arquivos\n",
    "\n",
    "A função abaixo carrega modelos a partir de arquivos no formato WaveFront."
   ]
  },
  {
   "cell_type": "code",
   "execution_count": 206,
   "metadata": {},
   "outputs": [],
   "source": [
    "def load_model_from_file(filename):\n",
    "    \"\"\"Loads a Wavefront OBJ file. \"\"\"\n",
    "    objects = {}\n",
    "    vertices = []\n",
    "    texture_coords = []\n",
    "    faces = []\n",
    "\n",
    "    material = None\n",
    "\n",
    "    # abre o arquivo obj para leitura\n",
    "    for line in open(filename, \"r\"): ## para cada linha do arquivo .obj\n",
    "        if line.startswith('#'): continue ## ignora comentarios\n",
    "        values = line.split() # quebra a linha por espaço\n",
    "        if not values: continue\n",
    "\n",
    "\n",
    "        ### recuperando vertices\n",
    "        if values[0] == 'v':\n",
    "            vertices.append(values[1:4])\n",
    "\n",
    "\n",
    "        ### recuperando coordenadas de textura\n",
    "        elif values[0] == 'vt':\n",
    "            texture_coords.append(values[1:3])\n",
    "\n",
    "        ### recuperando faces \n",
    "        elif values[0] in ('usemtl', 'usemat'):\n",
    "            material = values[1]\n",
    "        elif values[0] == 'f':\n",
    "            face = []\n",
    "            face_texture = []\n",
    "            for v in values[1:]:\n",
    "                w = v.split('/')\n",
    "                face.append(int(w[0]))\n",
    "                if len(w) >= 2 and len(w[1]) > 0:\n",
    "                    face_texture.append(int(w[1]))\n",
    "                else:\n",
    "                    face_texture.append(0)\n",
    "\n",
    "            faces.append((face, face_texture, material))\n",
    "\n",
    "    model = {}\n",
    "    model['vertices'] = vertices\n",
    "    model['texture'] = texture_coords\n",
    "    model['faces'] = faces\n",
    "\n",
    "    return model\n",
    "\n"
   ]
  },
  {
   "cell_type": "code",
   "execution_count": 207,
   "metadata": {},
   "outputs": [],
   "source": [
    "glHint(GL_LINE_SMOOTH_HINT, GL_DONT_CARE)\n",
    "glEnable( GL_BLEND )\n",
    "glBlendFunc( GL_SRC_ALPHA, GL_ONE_MINUS_SRC_ALPHA )\n",
    "glEnable(GL_LINE_SMOOTH)\n",
    "glEnable(GL_TEXTURE_2D)\n",
    "qtd_texturas = 4\n",
    "textures = glGenTextures(qtd_texturas)\n",
    "\n",
    "def load_texture_from_file(texture_id, img_textura):\n",
    "    glBindTexture(GL_TEXTURE_2D, texture_id)\n",
    "    glTexParameteri(GL_TEXTURE_2D, GL_TEXTURE_WRAP_S, GL_REPEAT)\n",
    "    glTexParameteri(GL_TEXTURE_2D, GL_TEXTURE_WRAP_T, GL_REPEAT)\n",
    "    glTexParameteri(GL_TEXTURE_2D, GL_TEXTURE_MIN_FILTER, GL_LINEAR)\n",
    "    glTexParameteri(GL_TEXTURE_2D, GL_TEXTURE_MAG_FILTER, GL_LINEAR)\n",
    "    img = Image.open(img_textura)\n",
    "    print(img_textura,img.mode)\n",
    "    img_width = img.size[0]\n",
    "    img_height = img.size[1]\n",
    "    #image_data = img.tobytes(\"raw\", \"RGB\", 0, -1)\n",
    "    image_data = img.convert(\"RGBA\").tobytes(\"raw\", \"RGBA\",0,-1)\n",
    "\n",
    "    #image_data = np.array(list(img.getdata()), np.uint8)\n",
    "    glTexImage2D(GL_TEXTURE_2D, 0, GL_RGBA, img_width, img_height, 0, GL_RGBA, GL_UNSIGNED_BYTE, image_data)"
   ]
  },
  {
   "cell_type": "markdown",
   "metadata": {},
   "source": [
    "### A lista abaixo armazena todos os vertices carregados dos arquivos"
   ]
  },
  {
   "cell_type": "code",
   "execution_count": 208,
   "metadata": {},
   "outputs": [],
   "source": [
    "vertices_list = []    \n",
    "textures_coord_list = []"
   ]
  },
  {
   "cell_type": "markdown",
   "metadata": {},
   "source": [
    "### Vamos carregar cada modelo e definir funções para desenhá-los"
   ]
  },
  {
   "cell_type": "code",
   "execution_count": 209,
   "metadata": {},
   "outputs": [],
   "source": [
    "def load_obj(objFile):\n",
    "    modelo = load_model_from_file(objFile)\n",
    "    \n",
    "    verticeInicial = len(vertices_list)\n",
    "    print('Processando modelo arvore.obj. Vertice inicial:',len(vertices_list))\n",
    "    faces_visited = []\n",
    "    for face in modelo['faces']:\n",
    "        if face[2] not in faces_visited:\n",
    "            print(face[2],' vertice inicial =',len(vertices_list))\n",
    "            faces_visited.append(face[2])\n",
    "        for vertice_id in face[0]:\n",
    "            vertices_list.append( modelo['vertices'][vertice_id-1] )\n",
    "        for texture_id in face[1]:\n",
    "            textures_coord_list.append( modelo['texture'][texture_id-1] )\n",
    "    print('Processando modelo arvore.obj. Vertice final:',len(vertices_list))\n",
    "    verticeFinal = len(vertices_list)\n",
    "    \n",
    "    return verticeInicial, verticeFinal - verticeInicial"
   ]
  },
  {
   "cell_type": "code",
   "execution_count": 210,
   "metadata": {},
   "outputs": [
    {
     "name": "stdout",
     "output_type": "stream",
     "text": [
      "Processando modelo arvore.obj. Vertice inicial: 0\n",
      "1m4g3n-texura-An1we.png  vertice inicial = 0\n",
      "Borde  vertice inicial = 3846\n",
      "Processando modelo arvore.obj. Vertice final: 21330\n",
      "objetos/pessoa/pessoa.png RGBA\n"
     ]
    }
   ],
   "source": [
    "verticeInicialPessoa, quantosVerticesPessoa = load_obj('objetos/pessoa/pessoa.obj')\n",
    "\n",
    "load_texture_from_file(0, 'objetos/pessoa/pessoa.png')"
   ]
  },
  {
   "cell_type": "code",
   "execution_count": 211,
   "metadata": {},
   "outputs": [
    {
     "name": "stdout",
     "output_type": "stream",
     "text": [
      "Processando modelo arvore.obj. Vertice inicial: 21330\n",
      "Material  vertice inicial = 21330\n",
      "10065_Corner_Grocery_Store_V2  vertice inicial = 21354\n",
      "Processando modelo arvore.obj. Vertice final: 112602\n",
      "objetos/loja/loja.jpg RGB\n"
     ]
    }
   ],
   "source": [
    "verticeInicialLoja, quantosVerticesLoja = load_obj('objetos/loja/loja.obj')\n",
    "\n",
    "load_texture_from_file(1, 'objetos/loja/loja.jpg')"
   ]
  },
  {
   "cell_type": "code",
   "execution_count": 212,
   "metadata": {},
   "outputs": [
    {
     "name": "stdout",
     "output_type": "stream",
     "text": [
      "Processando modelo arvore.obj. Vertice inicial: 112602\n",
      "Material.car2  vertice inicial = 112602\n",
      "Processando modelo arvore.obj. Vertice final: 123996\n",
      "objetos/carro/carro.png RGB\n"
     ]
    }
   ],
   "source": [
    "verticeInicialCarro, quantosVerticesCarro = load_obj('objetos/carro/carro.obj')\n",
    "\n",
    "load_texture_from_file(2, 'objetos/carro/carro.png')"
   ]
  },
  {
   "cell_type": "code",
   "execution_count": 213,
   "metadata": {},
   "outputs": [
    {
     "name": "stdout",
     "output_type": "stream",
     "text": [
      "Processando modelo arvore.obj. Vertice inicial: 123996\n",
      "Material.car9  vertice inicial = 123996\n",
      "Processando modelo arvore.obj. Vertice final: 139722\n",
      "objetos/policia/policia.png RGB\n"
     ]
    }
   ],
   "source": [
    "verticeInicialPolicia, quantosVerticesPolicia = load_obj('objetos/policia/policia.obj')\n",
    "\n",
    "load_texture_from_file(3, 'objetos/policia/policia.png')"
   ]
  },
  {
   "cell_type": "code",
   "execution_count": 214,
   "metadata": {},
   "outputs": [
    {
     "name": "stdout",
     "output_type": "stream",
     "text": [
      "Processando modelo arvore.obj. Vertice inicial: 139722\n",
      "Material  vertice inicial = 139722\n",
      "Processando modelo arvore.obj. Vertice final: 148476\n",
      "objetos/mesa/mesa.png RGBA\n"
     ]
    }
   ],
   "source": [
    "verticeInicialMesa, quantosVerticesMesa = load_obj('objetos/mesa/mesa.obj')\n",
    "\n",
    "load_texture_from_file(4, 'objetos/mesa/mesa.png')"
   ]
  },
  {
   "cell_type": "code",
   "execution_count": 215,
   "metadata": {},
   "outputs": [
    {
     "name": "stdout",
     "output_type": "stream",
     "text": [
      "Processando modelo arvore.obj. Vertice inicial: 148476\n",
      "Material.001_BrickRound0108_5_S.jpg  vertice inicial = 148476\n",
      "Processando modelo arvore.obj. Vertice final: 246780\n",
      "objetos/chao/chao.png RGB\n"
     ]
    }
   ],
   "source": [
    "verticeInicialChao, quantosVerticesChao = load_obj('objetos/chao/chao.obj')\n",
    "\n",
    "load_texture_from_file(5, 'objetos/chao/chao.png')"
   ]
  },
  {
   "cell_type": "code",
   "execution_count": 216,
   "metadata": {},
   "outputs": [
    {
     "name": "stdout",
     "output_type": "stream",
     "text": [
      "Processando modelo arvore.obj. Vertice inicial: 246780\n",
      "WhitePlastic  vertice inicial = 246780\n",
      "BalloonHeart  vertice inicial = 251028\n",
      "Processando modelo arvore.obj. Vertice final: 489876\n",
      "objetos/balao/balao.png RGBA\n"
     ]
    }
   ],
   "source": [
    "verticeInicialBalao, quantosVerticesBalao = load_obj('objetos/balao/balao.obj')\n",
    "\n",
    "load_texture_from_file(6, 'objetos/balao/balao.png')"
   ]
  },
  {
   "cell_type": "code",
   "execution_count": 217,
   "metadata": {},
   "outputs": [
    {
     "name": "stdout",
     "output_type": "stream",
     "text": [
      "Processando modelo arvore.obj. Vertice inicial: 489876\n",
      "MATERIAL_CHAIR_01_  vertice inicial = 489876\n",
      "Processando modelo arvore.obj. Vertice final: 490596\n",
      "objetos/cadeira/cadeira.png RGB\n"
     ]
    }
   ],
   "source": [
    "verticeInicialCadeira, quantosVerticesCadeira = load_obj('objetos/cadeira/cadeira.obj')\n",
    "\n",
    "load_texture_from_file(7, 'objetos/cadeira/cadeira.png')"
   ]
  },
  {
   "cell_type": "code",
   "execution_count": 218,
   "metadata": {},
   "outputs": [
    {
     "name": "stdout",
     "output_type": "stream",
     "text": [
      "Processando modelo arvore.obj. Vertice inicial: 490596\n",
      "surfaceShader1SG  vertice inicial = 490596\n",
      "Processando modelo arvore.obj. Vertice final: 492876\n",
      "objetos/ceu/ceu.png RGBA\n"
     ]
    }
   ],
   "source": [
    "verticeInicialCeu, quantosVerticesCeu = load_obj('objetos/ceu/ceu.obj')\n",
    "\n",
    "load_texture_from_file(8, 'objetos/ceu/ceu.png')"
   ]
  },
  {
   "cell_type": "markdown",
   "metadata": {},
   "source": [
    "### Para enviar nossos dados da CPU para a GPU, precisamos requisitar slots.\n",
    "\n",
    "Nós agora vamos requisitar dois slots.\n",
    "* Um para enviar coordenadas dos vértices.\n",
    "* Outros para enviar coordenadas de texturas."
   ]
  },
  {
   "cell_type": "code",
   "execution_count": 219,
   "metadata": {},
   "outputs": [],
   "source": [
    "# Request a buffer slot from GPU\n",
    "buffer = glGenBuffers(2)\n"
   ]
  },
  {
   "cell_type": "markdown",
   "metadata": {},
   "source": [
    "###  Enviando coordenadas de vértices para a GPU"
   ]
  },
  {
   "cell_type": "code",
   "execution_count": 220,
   "metadata": {},
   "outputs": [],
   "source": [
    "vertices = np.zeros(len(vertices_list), [(\"position\", np.float32, 3)])\n",
    "vertices['position'] = vertices_list\n",
    "\n",
    "\n",
    "# Upload data\n",
    "glBindBuffer(GL_ARRAY_BUFFER, buffer[0])\n",
    "glBufferData(GL_ARRAY_BUFFER, vertices.nbytes, vertices, GL_STATIC_DRAW)\n",
    "stride = vertices.strides[0]\n",
    "offset = ctypes.c_void_p(0)\n",
    "loc_vertices = glGetAttribLocation(program, \"position\")\n",
    "glEnableVertexAttribArray(loc_vertices)\n",
    "glVertexAttribPointer(loc_vertices, 3, GL_FLOAT, False, stride, offset)\n"
   ]
  },
  {
   "cell_type": "markdown",
   "metadata": {},
   "source": [
    "###  Enviando coordenadas de textura para a GPU"
   ]
  },
  {
   "cell_type": "code",
   "execution_count": 221,
   "metadata": {},
   "outputs": [],
   "source": [
    "textures = np.zeros(len(textures_coord_list), [(\"position\", np.float32, 2)]) # duas coordenadas\n",
    "textures['position'] = textures_coord_list\n",
    "\n",
    "\n",
    "# Upload data\n",
    "glBindBuffer(GL_ARRAY_BUFFER, buffer[1])\n",
    "glBufferData(GL_ARRAY_BUFFER, textures.nbytes, textures, GL_STATIC_DRAW)\n",
    "stride = textures.strides[0]\n",
    "offset = ctypes.c_void_p(0)\n",
    "loc_texture_coord = glGetAttribLocation(program, \"texture_coord\")\n",
    "glEnableVertexAttribArray(loc_texture_coord)\n",
    "glVertexAttribPointer(loc_texture_coord, 2, GL_FLOAT, False, stride, offset)\n",
    "\n",
    "\n",
    "\n"
   ]
  },
  {
   "cell_type": "markdown",
   "metadata": {},
   "source": [
    "### Desenhando nossos modelos\n",
    "* Cada modelo tem um Model para posicioná-los no mundo.\n",
    "* É necessário saber qual a posição inicial e total de vértices de cada modelo\n",
    "* É necessário indicar qual o ID da textura do modelo\n"
   ]
  },
  {
   "cell_type": "code",
   "execution_count": 222,
   "metadata": {},
   "outputs": [],
   "source": [
    "def desenha_pessoa(t_y):\n",
    "    \n",
    "    \n",
    "    # aplica a matriz model\n",
    "    \n",
    "    # rotacao\n",
    "    angle = 180.0;\n",
    "    r_x = 0.0; r_y = 1.0; r_z = 0.0;\n",
    "    \n",
    "    # translacao\n",
    "    t_x = -8.0; t_z = 11;\n",
    "    \n",
    "    # escala\n",
    "    s_x = 0.45; s_y = 0.45; s_z = 0.45;\n",
    "    \n",
    "    mat_model = model(angle, r_x, r_y, r_z, t_x, t_y, t_z, s_x, s_y, s_z)\n",
    "    loc_model = glGetUniformLocation(program, \"model\")\n",
    "    glUniformMatrix4fv(loc_model, 1, GL_FALSE, mat_model)\n",
    "       \n",
    "    \n",
    "    ### desenho o tronco da arvore\n",
    "    #define id da textura do modelo\n",
    "    glBindTexture(GL_TEXTURE_2D, 0)\n",
    "    # desenha o modelo\n",
    "    glDrawArrays(GL_TRIANGLES, verticeInicialPessoa, quantosVerticesPessoa) ## renderizando\n",
    "    \n",
    "\n"
   ]
  },
  {
   "cell_type": "code",
   "execution_count": 223,
   "metadata": {},
   "outputs": [],
   "source": [
    "def desenha_loja():\n",
    "    \n",
    "    \n",
    "    # aplica a matriz model\n",
    "    \n",
    "    # rotacao\n",
    "    angle = 180.0;\n",
    "    r_x = 0.0; r_y = 1.0; r_z = 0.0;\n",
    "    \n",
    "    # translacao\n",
    "    t_x = 0.0; t_y = 0.0; t_z = 15.0;\n",
    "    \n",
    "    # escala\n",
    "    s_x = 0.015; s_y = 0.015; s_z = 0.015;\n",
    "    \n",
    "    mat_model = model(angle, r_x, r_y, r_z, t_x, t_y, t_z, s_x, s_y, s_z)\n",
    "    loc_model = glGetUniformLocation(program, \"model\")\n",
    "    glUniformMatrix4fv(loc_model, 1, GL_FALSE, mat_model)\n",
    "\n",
    "    #define id da textura do modelo\n",
    "    glBindTexture(GL_TEXTURE_2D, 1)\n",
    "    # desenha o modelo\n",
    "    glDrawArrays(GL_TRIANGLES, verticeInicialLoja, quantosVerticesLoja) ## renderizando\n",
    "    "
   ]
  },
  {
   "cell_type": "code",
   "execution_count": 224,
   "metadata": {},
   "outputs": [],
   "source": [
    "def desenha_carro(angle=180, t_x=8.0, t_z=15.0):\n",
    "    \n",
    "    \n",
    "    # aplica a matriz model\n",
    "    \n",
    "    # rotacao\n",
    "    r_x = 0.0; r_y = 1.0; r_z = 0.0;\n",
    "    \n",
    "    # translacao\n",
    "    t_y = 0.0;\n",
    "    \n",
    "    # escala\n",
    "    s_x = 1.0; s_y = 1.0; s_z = 1.0;\n",
    "    \n",
    "    mat_model = model(angle, r_x, r_y, r_z, t_x, t_y, t_z, s_x, s_y, s_z)\n",
    "    loc_model = glGetUniformLocation(program, \"model\")\n",
    "    glUniformMatrix4fv(loc_model, 1, GL_FALSE, mat_model)\n",
    "\n",
    "    #define id da textura do modelo\n",
    "    glBindTexture(GL_TEXTURE_2D, 2)\n",
    "    # desenha o modelo\n",
    "    glDrawArrays(GL_TRIANGLES, verticeInicialCarro, quantosVerticesCarro) ## renderizando"
   ]
  },
  {
   "cell_type": "code",
   "execution_count": 225,
   "metadata": {},
   "outputs": [],
   "source": [
    "def desenha_policia():\n",
    "    \n",
    "    \n",
    "    # aplica a matriz model\n",
    "    \n",
    "    # rotacao\n",
    "    angle = 180.0;\n",
    "    r_x = 0.0; r_y = 1.0; r_z = 0.0;\n",
    "    \n",
    "    # translacao\n",
    "    t_x = 8.0; t_y = 0.0; t_z = 20.0;\n",
    "    \n",
    "    # escala\n",
    "    s_x = 1.0; s_y = 1.0; s_z = 1.0;\n",
    "    \n",
    "    mat_model = model(angle, r_x, r_y, r_z, t_x, t_y, t_z, s_x, s_y, s_z)\n",
    "    loc_model = glGetUniformLocation(program, \"model\")\n",
    "    glUniformMatrix4fv(loc_model, 1, GL_FALSE, mat_model)\n",
    "\n",
    "    #define id da textura do modelo\n",
    "    glBindTexture(GL_TEXTURE_2D, 3)\n",
    "    # desenha o modelo\n",
    "    glDrawArrays(GL_TRIANGLES, verticeInicialPolicia, quantosVerticesPolicia) ## renderizando"
   ]
  },
  {
   "cell_type": "code",
   "execution_count": 226,
   "metadata": {},
   "outputs": [],
   "source": [
    "def desenha_mesa():\n",
    "    \n",
    "    # aplica a matriz model\n",
    "    \n",
    "    # rotacao\n",
    "    angle = 180.0;\n",
    "    r_x = 0.0; r_y = 1.0; r_z = 0.0;\n",
    "    \n",
    "    # translacao\n",
    "    t_x = -5.0; t_y = 0.0; t_z = 20.0;\n",
    "    \n",
    "    # escala\n",
    "    s_x = 8.0; s_y = 4.0; s_z = 2.0;\n",
    "    \n",
    "    mat_model = model(angle, r_x, r_y, r_z, t_x, t_y, t_z, s_x, s_y, s_z)\n",
    "    loc_model = glGetUniformLocation(program, \"model\")\n",
    "    glUniformMatrix4fv(loc_model, 1, GL_FALSE, mat_model)\n",
    "\n",
    "    #define id da textura do modelo\n",
    "    glBindTexture(GL_TEXTURE_2D, 4)\n",
    "    # desenha o modelo\n",
    "    glDrawArrays(GL_TRIANGLES, verticeInicialMesa, quantosVerticesMesa) ## renderizando"
   ]
  },
  {
   "cell_type": "code",
   "execution_count": 227,
   "metadata": {},
   "outputs": [],
   "source": [
    "def desenha_chao(t_x=0, t_z=0):\n",
    "    \n",
    "    # aplica a matriz model\n",
    "    \n",
    "    # rotacao\n",
    "    angle = 180.0;\n",
    "    r_x = 0.0; r_y = 1.0; r_z = 0.0;\n",
    "    \n",
    "    # translacao\n",
    "    t_y = -0.5;\n",
    "    \n",
    "    # escala\n",
    "    s_x = 1.0; s_y = 1.0; s_z = 1.0;\n",
    "    \n",
    "    mat_model = model(angle, r_x, r_y, r_z, t_x, t_y, t_z, s_x, s_y, s_z)\n",
    "    loc_model = glGetUniformLocation(program, \"model\")\n",
    "    glUniformMatrix4fv(loc_model, 1, GL_FALSE, mat_model)\n",
    "\n",
    "    #define id da textura do modelo\n",
    "    glBindTexture(GL_TEXTURE_2D, 5)\n",
    "    # desenha o modelo\n",
    "    glDrawArrays(GL_TRIANGLES, verticeInicialChao, quantosVerticesChao) ## renderizando"
   ]
  },
  {
   "cell_type": "code",
   "execution_count": 228,
   "metadata": {},
   "outputs": [],
   "source": [
    "def desenha_balao(escala=1):\n",
    "    \n",
    "    # aplica a matriz model\n",
    "    \n",
    "    # rotacao\n",
    "    angle = 180.0;\n",
    "    r_x = 0.0; r_y = 1.0; r_z = 0.0;\n",
    "    \n",
    "    # translacao\n",
    "    t_x = -3; t_y = 2.5; t_z = 22;\n",
    "    \n",
    "    # escala\n",
    "    s_x = escala; s_y = escala; s_z = escala;\n",
    "    \n",
    "    mat_model = model(angle, r_x, r_y, r_z, t_x, t_y, t_z, s_x, s_y, s_z)\n",
    "    loc_model = glGetUniformLocation(program, \"model\")\n",
    "    glUniformMatrix4fv(loc_model, 1, GL_FALSE, mat_model)\n",
    "\n",
    "    #define id da textura do modelo\n",
    "    glBindTexture(GL_TEXTURE_2D, 6)\n",
    "    # desenha o modelo\n",
    "    glDrawArrays(GL_TRIANGLES, verticeInicialBalao, quantosVerticesBalao) ## renderizando"
   ]
  },
  {
   "cell_type": "code",
   "execution_count": 229,
   "metadata": {},
   "outputs": [],
   "source": [
    "def desenha_cadeira():\n",
    "    \n",
    "    # aplica a matriz model\n",
    "    \n",
    "    # rotacao\n",
    "    angle = 180.0;\n",
    "    r_x = 0.0; r_y = 1.0; r_z = 0.0;\n",
    "    \n",
    "    # translacao\n",
    "    t_x = -5.0; t_y = 0.0; t_z = 22.0;\n",
    "    \n",
    "    # escala\n",
    "    s_x = 2.6; s_y = 2.6; s_z = 2.6;\n",
    "    \n",
    "    mat_model = model(angle, r_x, r_y, r_z, t_x, t_y, t_z, s_x, s_y, s_z)\n",
    "    loc_model = glGetUniformLocation(program, \"model\")\n",
    "    glUniformMatrix4fv(loc_model, 1, GL_FALSE, mat_model)\n",
    "\n",
    "    #define id da textura do modelo\n",
    "    glBindTexture(GL_TEXTURE_2D, 7)\n",
    "    # desenha o modelo\n",
    "    glDrawArrays(GL_TRIANGLES, verticeInicialCadeira, quantosVerticesCadeira) ## renderizando"
   ]
  },
  {
   "cell_type": "code",
   "execution_count": 230,
   "metadata": {},
   "outputs": [],
   "source": [
    "def desenha_ceu():\n",
    "    \n",
    "    # aplica a matriz model\n",
    "    \n",
    "    # rotacao\n",
    "    angle = 180.0;\n",
    "    r_x = 0.0; r_y = 1.0; r_z = 0.0;\n",
    "    \n",
    "    # translacao\n",
    "    t_x = 0.0; t_y = 0.0; t_z = 15.0;\n",
    "    \n",
    "    # escala\n",
    "    s_x = 1.1; s_y = 1.1; s_z = 1.1;\n",
    "    \n",
    "    mat_model = model(angle, r_x, r_y, r_z, t_x, t_y, t_z, s_x, s_y, s_z)\n",
    "    loc_model = glGetUniformLocation(program, \"model\")\n",
    "    glUniformMatrix4fv(loc_model, 1, GL_FALSE, mat_model)\n",
    "\n",
    "    #define id da textura do modelo\n",
    "    glBindTexture(GL_TEXTURE_2D, 8)\n",
    "    # desenha o modelo\n",
    "    glDrawArrays(GL_TRIANGLES, verticeInicialCeu, quantosVerticesCeu) ## renderizando"
   ]
  },
  {
   "cell_type": "markdown",
   "metadata": {},
   "source": [
    "### Eventos para modificar a posição da câmera.\n",
    "\n",
    "* Usei as teclas A, S, D e W para movimentação no espaço tridimensional\n",
    "* Usei a posição do mouse para \"direcionar\" a câmera"
   ]
  },
  {
   "cell_type": "code",
   "execution_count": 231,
   "metadata": {},
   "outputs": [],
   "source": [
    "#cameraPos   = glm.vec3(0.0,  0.0,  1.0);\n",
    "#cameraFront = glm.vec3(0.0,  0.0, -1.0);\n",
    "#cameraUp    = glm.vec3(0.0,  1.0,  0.0);\n",
    "\n",
    "# camera\n",
    "cameraPos   = glm.vec3(0.0, 0.0, 3.0)\n",
    "cameraFront = glm.vec3(0.0, 0.0, -1.0)\n",
    "cameraUp    = glm.vec3(0.0, 1.0, 0.0)\n",
    "\n",
    "firstMouse = True\n",
    "yaw   = -90.0  # yaw is initialized to -90.0 degrees since a yaw of 0.0 results in a direction vector pointing to the right so we initially rotate a bit to the left.\n",
    "pitch =  0.0\n",
    "lastX =  largura / 2.0\n",
    "lastY =  altura / 2.0\n",
    "fov   =  45.0\n",
    "\n",
    "# timing\n",
    "deltaTime = 0.0  # time between current frame and last frame\n",
    "lastFrame = 0.0\n",
    "\n",
    "\n",
    "firstMouse = True\n",
    "yaw = -90.0 \n",
    "pitch = 0.0\n",
    "lastX =  largura/2\n",
    "lastY =  altura/2\n",
    "\n",
    "\n",
    "def key_event(window,key,scancode,action,mods):\n",
    "    global cameraPos, cameraFront, cameraUp, polygonal_mode\n",
    "    global pulo, estacionar, aumentar\n",
    "\n",
    "    if key == glfw.KEY_ESCAPE and action == glfw.PRESS:\n",
    "        glfw.set_window_should_close(window, True)\n",
    "    \n",
    "    cameraSpeed = 100 * deltaTime\n",
    "    if key == glfw.KEY_W and (action == glfw.PRESS or action == glfw.REPEAT):\n",
    "        cameraPos += cameraSpeed * cameraFront\n",
    "    \n",
    "    if key == glfw.KEY_S and (action == glfw.PRESS or action == glfw.REPEAT):\n",
    "        cameraPos -= cameraSpeed * cameraFront\n",
    "    \n",
    "    if key == glfw.KEY_A and (action == glfw.PRESS or action == glfw.REPEAT):\n",
    "        cameraPos -= glm.normalize(glm.cross(cameraFront, cameraUp)) * cameraSpeed\n",
    "        \n",
    "    if key == glfw.KEY_D and (action == glfw.PRESS or action == glfw.REPEAT):\n",
    "        cameraPos += glm.normalize(glm.cross(cameraFront, cameraUp)) * cameraSpeed\n",
    "\n",
    "    cameraPos.x = glm.clamp(cameraPos.x, -20.0, 16.0)\n",
    "    cameraPos.z = glm.clamp(cameraPos.z, 0.0, 27.0)\n",
    "    cameraPos.y = glm.clamp(cameraPos.y, 0.5, 10.0) \n",
    "\n",
    "    if key == glfw.KEY_P and action == glfw.PRESS:\n",
    "        polygonal_mode = not polygonal_mode\n",
    "\n",
    "    if key == glfw.KEY_R:\n",
    "        pulo = True\n",
    "\n",
    "    if key == glfw.KEY_E:\n",
    "        estacionar = True\n",
    "\n",
    "    if key == glfw.KEY_T:\n",
    "        aumentar = True\n",
    "    \n",
    "\n",
    "def framebuffer_size_callback(window, largura, altura):\n",
    "\n",
    "    # make sure the viewport matches the new window dimensions note that width and \n",
    "    # height will be significantly larger than specified on retina displays.\n",
    "    glViewport(0, 0, largura, altura)\n",
    "\n",
    "# glfw: whenever the mouse moves, this callback is called\n",
    "# -------------------------------------------------------\n",
    "def mouse_callback(window, xpos, ypos):\n",
    "    global cameraFront, lastX, lastY, firstMouse, yaw, pitch\n",
    "   \n",
    "    if (firstMouse):\n",
    "\n",
    "        lastX = xpos\n",
    "        lastY = ypos\n",
    "        firstMouse = False\n",
    "\n",
    "    xoffset = xpos - lastX\n",
    "    yoffset = lastY - ypos # reversed since y-coordinates go from bottom to top\n",
    "    lastX = xpos\n",
    "    lastY = ypos\n",
    "\n",
    "    sensitivity = 0.1 # change this value to your liking\n",
    "    xoffset *= sensitivity\n",
    "    yoffset *= sensitivity\n",
    "\n",
    "    yaw += xoffset\n",
    "    pitch += yoffset\n",
    "\n",
    "    # make sure that when pitch is out of bounds, screen doesn't get flipped\n",
    "    if (pitch > 89.0):\n",
    "        pitch = 89.0\n",
    "    if (pitch < -89.0):\n",
    "        pitch = -89.0\n",
    "\n",
    "    front = glm.vec3()\n",
    "    front.x = glm.cos(glm.radians(yaw)) * glm.cos(glm.radians(pitch))\n",
    "    front.y = glm.sin(glm.radians(pitch))\n",
    "    front.z = glm.sin(glm.radians(yaw)) * glm.cos(glm.radians(pitch))\n",
    "    cameraFront = glm.normalize(front)\n",
    "\n",
    "# glfw: whenever the mouse scroll wheel scrolls, this callback is called\n",
    "# ----------------------------------------------------------------------\n",
    "def scroll_callback(window, xoffset, yoffset):\n",
    "    global fov\n",
    "\n",
    "    fov -= yoffset\n",
    "    if (fov < 1.0):\n",
    "        fov = 1.0\n",
    "    if (fov > 45.0):\n",
    "        fov = 45.0\n",
    "    \n",
    "glfw.set_key_callback(window,key_event)\n",
    "glfw.set_framebuffer_size_callback(window, framebuffer_size_callback)\n",
    "glfw.set_cursor_pos_callback(window, mouse_callback)\n",
    "glfw.set_scroll_callback(window, scroll_callback)\n",
    "\n",
    "# tell GLFW to capture our mouse\n",
    "glfw.set_input_mode(window, glfw.CURSOR, glfw.CURSOR_DISABLED)\n"
   ]
  },
  {
   "cell_type": "markdown",
   "metadata": {},
   "source": [
    "### Matrizes Model, View e Projection"
   ]
  },
  {
   "cell_type": "code",
   "execution_count": 232,
   "metadata": {},
   "outputs": [],
   "source": [
    "def model(angle, r_x, r_y, r_z, t_x, t_y, t_z, s_x, s_y, s_z):\n",
    "    \n",
    "    angle = math.radians(angle)\n",
    "    \n",
    "    matrix_transform = glm.mat4(1.0) # instanciando uma matriz identidade\n",
    "\n",
    "    \n",
    "    # aplicando translacao\n",
    "    matrix_transform = glm.translate(matrix_transform, glm.vec3(t_x, t_y, t_z))    \n",
    "    \n",
    "    # aplicando rotacao\n",
    "    matrix_transform = glm.rotate(matrix_transform, angle, glm.vec3(r_x, r_y, r_z))\n",
    "    \n",
    "    # aplicando escala\n",
    "    matrix_transform = glm.scale(matrix_transform, glm.vec3(s_x, s_y, s_z))\n",
    "    \n",
    "    matrix_transform = np.array(matrix_transform).T # pegando a transposta da matriz (glm trabalha com ela invertida)\n",
    "    \n",
    "    return matrix_transform\n",
    "\n",
    "def view():\n",
    "    global cameraPos, cameraFront, cameraUp\n",
    "    mat_view = glm.lookAt(cameraPos, cameraPos + cameraFront, cameraUp);\n",
    "    mat_view = np.array(mat_view)\n",
    "    return mat_view\n",
    "\n",
    "def projection():\n",
    "    global altura, largura, inc_fov, inc_near, inc_far\n",
    "    # perspective parameters: fovy, aspect, near, far\n",
    "    mat_projection = glm.perspective(glm.radians(45.0), largura/altura, 0.1, 1000.0)\n",
    "    mat_projection = np.array(mat_projection)    \n",
    "    return mat_projection"
   ]
  },
  {
   "cell_type": "markdown",
   "metadata": {},
   "source": [
    "### Nesse momento, nós exibimos a janela!\n"
   ]
  },
  {
   "cell_type": "code",
   "execution_count": 233,
   "metadata": {},
   "outputs": [],
   "source": [
    "glfw.show_window(window)\n",
    "glfw.set_cursor_pos(window, lastX, lastY)"
   ]
  },
  {
   "cell_type": "markdown",
   "metadata": {},
   "source": [
    "### Loop principal da janela."
   ]
  },
  {
   "cell_type": "code",
   "execution_count": 234,
   "metadata": {},
   "outputs": [],
   "source": [
    "glEnable(GL_DEPTH_TEST) ### importante para 3D\n",
    "   \n",
    "pulo = False\n",
    "estacionar = False\n",
    "aumentar = False\n",
    "pessoa_t_y = 0.0\n",
    "incr_pulo = 0.003\n",
    "carro_angulo=180; carro_t_x=8.0; carro_t_z=15.0; incr_carro = 0.06\n",
    "balao_tamanho = 2.0; incr_balao = 0.01\n",
    "polygonal_mode = False\n",
    "\n",
    "while not glfw.window_should_close(window):\n",
    "\n",
    "    currentFrame = glfw.get_time()\n",
    "    deltaTime = currentFrame - lastFrame\n",
    "    lastFrame = currentFrame\n",
    "\n",
    "    glfw.poll_events() \n",
    "\n",
    "    if polygonal_mode==True:\n",
    "        glPolygonMode(GL_FRONT_AND_BACK,GL_LINE)\n",
    "    if polygonal_mode==False:\n",
    "        glPolygonMode(GL_FRONT_AND_BACK,GL_FILL)\n",
    "    \n",
    "    \n",
    "    glClear(GL_COLOR_BUFFER_BIT | GL_DEPTH_BUFFER_BIT)\n",
    "    \n",
    "    glClearColor(1.0, 1.0, 1.0, 1.0)\n",
    "    \n",
    "    if pulo == True:\n",
    "        if pessoa_t_y >= 1.2:\n",
    "            incr_pulo *= -1\n",
    "        pessoa_t_y += incr_pulo\n",
    "        if pessoa_t_y <= 0.0:\n",
    "            incr_pulo *= -1\n",
    "            pulo = False\n",
    "    desenha_pessoa(pessoa_t_y)\n",
    "    desenha_loja()\n",
    "    if estacionar == True:\n",
    "        carro_angulo += incr_carro\n",
    "        carro_t_x += incr_carro/10 * -math.cos(math.radians(carro_angulo))\n",
    "        carro_t_z += incr_carro/10 * math.sin(math.radians(carro_angulo))\n",
    "        if carro_angulo >= 270 or carro_angulo <= 180:\n",
    "            incr_carro *= -1\n",
    "            estacionar = False\n",
    "\n",
    "    desenha_carro(carro_angulo, carro_t_x, carro_t_z)\n",
    "    desenha_policia()\n",
    "    desenha_mesa()\n",
    "\n",
    "    for chao_t_x in range(-20, 20, 9):\n",
    "        for chao_t_z in range(0, 30, 9):\n",
    "            desenha_chao(chao_t_x, chao_t_z)\n",
    "    \n",
    "    if aumentar == True:\n",
    "        balao_tamanho += incr_balao\n",
    "        if balao_tamanho <= 2.0 or balao_tamanho >= 3:\n",
    "            incr_balao *= -1\n",
    "            aumentar = False\n",
    "\n",
    "    desenha_balao(balao_tamanho)\n",
    "    desenha_cadeira()\n",
    "    desenha_ceu()\n",
    "\n",
    "    mat_view = view()\n",
    "    loc_view = glGetUniformLocation(program, \"view\")\n",
    "    glUniformMatrix4fv(loc_view, 1, GL_TRUE, mat_view)\n",
    "\n",
    "    mat_projection = projection()\n",
    "    loc_projection = glGetUniformLocation(program, \"projection\")\n",
    "    glUniformMatrix4fv(loc_projection, 1, GL_TRUE, mat_projection)    \n",
    "\n",
    "    glfw.swap_buffers(window)\n",
    "\n",
    "glfw.terminate()"
   ]
  }
 ],
 "metadata": {
  "finalized": {
   "timestamp": 1589232864147,
   "trusted": true
  },
  "kernelspec": {
   "display_name": "Python 3",
   "language": "python",
   "name": "python3"
  },
  "language_info": {
   "codemirror_mode": {
    "name": "ipython",
    "version": 3
   },
   "file_extension": ".py",
   "mimetype": "text/x-python",
   "name": "python",
   "nbconvert_exporter": "python",
   "pygments_lexer": "ipython3",
   "version": "3.11.9"
  }
 },
 "nbformat": 4,
 "nbformat_minor": 4
}
